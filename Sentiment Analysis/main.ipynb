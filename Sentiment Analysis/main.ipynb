{
 "cells": [
  {
   "cell_type": "code",
   "execution_count": 38,
   "id": "e0bfefb2",
   "metadata": {},
   "outputs": [
    {
     "name": "stdout",
     "output_type": "stream",
     "text": [
      "Requirement already satisfied: pandas in c:\\users\\soham kishor walam\\anaconda3\\lib\\site-packages (2.2.2)\n",
      "Requirement already satisfied: numpy in c:\\users\\soham kishor walam\\anaconda3\\lib\\site-packages (1.26.4)\n",
      "Requirement already satisfied: scikit-learn in c:\\users\\soham kishor walam\\anaconda3\\lib\\site-packages (1.4.2)\n",
      "Requirement already satisfied: matplotlib in c:\\users\\soham kishor walam\\anaconda3\\lib\\site-packages (3.8.4)\n",
      "Requirement already satisfied: seaborn in c:\\users\\soham kishor walam\\anaconda3\\lib\\site-packages (0.13.2)\n",
      "Requirement already satisfied: nltk in c:\\users\\soham kishor walam\\anaconda3\\lib\\site-packages (3.8.1)\n",
      "Requirement already satisfied: python-dateutil>=2.8.2 in c:\\users\\soham kishor walam\\anaconda3\\lib\\site-packages (from pandas) (2.9.0.post0)\n",
      "Requirement already satisfied: pytz>=2020.1 in c:\\users\\soham kishor walam\\anaconda3\\lib\\site-packages (from pandas) (2024.1)\n",
      "Requirement already satisfied: tzdata>=2022.7 in c:\\users\\soham kishor walam\\anaconda3\\lib\\site-packages (from pandas) (2023.3)\n",
      "Requirement already satisfied: scipy>=1.6.0 in c:\\users\\soham kishor walam\\anaconda3\\lib\\site-packages (from scikit-learn) (1.13.1)\n",
      "Requirement already satisfied: joblib>=1.2.0 in c:\\users\\soham kishor walam\\anaconda3\\lib\\site-packages (from scikit-learn) (1.4.2)\n",
      "Requirement already satisfied: threadpoolctl>=2.0.0 in c:\\users\\soham kishor walam\\anaconda3\\lib\\site-packages (from scikit-learn) (2.2.0)\n",
      "Requirement already satisfied: contourpy>=1.0.1 in c:\\users\\soham kishor walam\\anaconda3\\lib\\site-packages (from matplotlib) (1.2.0)\n",
      "Requirement already satisfied: cycler>=0.10 in c:\\users\\soham kishor walam\\anaconda3\\lib\\site-packages (from matplotlib) (0.11.0)\n",
      "Requirement already satisfied: fonttools>=4.22.0 in c:\\users\\soham kishor walam\\anaconda3\\lib\\site-packages (from matplotlib) (4.51.0)\n",
      "Requirement already satisfied: kiwisolver>=1.3.1 in c:\\users\\soham kishor walam\\anaconda3\\lib\\site-packages (from matplotlib) (1.4.4)\n",
      "Requirement already satisfied: packaging>=20.0 in c:\\users\\soham kishor walam\\anaconda3\\lib\\site-packages (from matplotlib) (23.2)\n",
      "Requirement already satisfied: pillow>=8 in c:\\users\\soham kishor walam\\anaconda3\\lib\\site-packages (from matplotlib) (10.3.0)\n",
      "Requirement already satisfied: pyparsing>=2.3.1 in c:\\users\\soham kishor walam\\anaconda3\\lib\\site-packages (from matplotlib) (3.0.9)\n",
      "Requirement already satisfied: click in c:\\users\\soham kishor walam\\anaconda3\\lib\\site-packages (from nltk) (8.1.7)\n",
      "Requirement already satisfied: regex>=2021.8.3 in c:\\users\\soham kishor walam\\anaconda3\\lib\\site-packages (from nltk) (2023.10.3)\n",
      "Requirement already satisfied: tqdm in c:\\users\\soham kishor walam\\anaconda3\\lib\\site-packages (from nltk) (4.66.4)\n",
      "Requirement already satisfied: six>=1.5 in c:\\users\\soham kishor walam\\anaconda3\\lib\\site-packages (from python-dateutil>=2.8.2->pandas) (1.16.0)\n",
      "Requirement already satisfied: colorama in c:\\users\\soham kishor walam\\anaconda3\\lib\\site-packages (from click->nltk) (0.4.6)\n",
      "Note: you may need to restart the kernel to use updated packages.\n"
     ]
    }
   ],
   "source": [
    "%pip install pandas numpy scikit-learn matplotlib seaborn nltk "
   ]
  },
  {
   "cell_type": "code",
   "execution_count": 7,
   "id": "f7c28acf",
   "metadata": {},
   "outputs": [
    {
     "name": "stdout",
     "output_type": "stream",
     "text": [
      "333333\n"
     ]
    }
   ],
   "source": [
    "\n",
    "x= input()\n",
    "y = int(input())\n",
    "print(x*y)\n"
   ]
  },
  {
   "cell_type": "code",
   "execution_count": 6,
   "id": "667d79e4",
   "metadata": {},
   "outputs": [
    {
     "name": "stdout",
     "output_type": "stream",
     "text": [
      "1\n"
     ]
    }
   ],
   "source": [
    "x=11\n",
    "y=4\n",
    "x=x%y\n",
    "x=x%y\n",
    "y=y%x\n",
    "print(y)"
   ]
  },
  {
   "cell_type": "code",
   "execution_count": 52,
   "id": "5ea1fbbf",
   "metadata": {},
   "outputs": [
    {
     "name": "stdout",
     "output_type": "stream",
     "text": [
      "2\n"
     ]
    }
   ],
   "source": [
    "tup = (1, 2, 4, 8)\n",
    "tup = tup[1:-1]\n",
    "tup = tup[0]\n",
    "print(tup)\n",
    "\n"
   ]
  },
  {
   "cell_type": "markdown",
   "id": "622ec092",
   "metadata": {},
   "source": [
    "Import Libraries"
   ]
  },
  {
   "cell_type": "code",
   "execution_count": null,
   "id": "d35f3ba1",
   "metadata": {},
   "outputs": [
    {
     "name": "stderr",
     "output_type": "stream",
     "text": [
      "[nltk_data] Downloading package punkt to C:\\Users\\Soham Kishor\n",
      "[nltk_data]     Walam\\AppData\\Roaming\\nltk_data...\n",
      "[nltk_data]   Package punkt is already up-to-date!\n",
      "[nltk_data] Downloading package stopwords to C:\\Users\\Soham Kishor\n",
      "[nltk_data]     Walam\\AppData\\Roaming\\nltk_data...\n",
      "[nltk_data]   Package stopwords is already up-to-date!\n",
      "[nltk_data] Downloading package wordnet to C:\\Users\\Soham Kishor\n",
      "[nltk_data]     Walam\\AppData\\Roaming\\nltk_data...\n",
      "[nltk_data]   Package wordnet is already up-to-date!\n"
     ]
    },
    {
     "data": {
      "text/plain": [
       "True"
      ]
     },
     "execution_count": 42,
     "metadata": {},
     "output_type": "execute_result"
    }
   ],
   "source": [
    "import pandas as pd\n",
    "from sklearn.model_selection import train_test_split\n",
    "from sklearn.feature_extraction.text import CountVectorizer\n",
    "from sklearn.naive_bayes import MultinomialNB\n",
    "from sklearn.metrics import classification_report, confusion_matrix\n",
    "import seaborn as sns\n",
    "import matplotlib.pyplot as plt"
   ]
  },
  {
   "cell_type": "markdown",
   "id": "7f8763d0",
   "metadata": {},
   "source": [
    "Load Dataset"
   ]
  },
  {
   "cell_type": "code",
   "execution_count": null,
   "id": "2a404883",
   "metadata": {},
   "outputs": [
    {
     "name": "stdout",
     "output_type": "stream",
     "text": [
      "Loading dataset...\n"
     ]
    },
    {
     "data": {
      "text/html": [
       "<div>\n",
       "<style scoped>\n",
       "    .dataframe tbody tr th:only-of-type {\n",
       "        vertical-align: middle;\n",
       "    }\n",
       "\n",
       "    .dataframe tbody tr th {\n",
       "        vertical-align: top;\n",
       "    }\n",
       "\n",
       "    .dataframe thead th {\n",
       "        text-align: right;\n",
       "    }\n",
       "</style>\n",
       "<table border=\"1\" class=\"dataframe\">\n",
       "  <thead>\n",
       "    <tr style=\"text-align: right;\">\n",
       "      <th></th>\n",
       "      <th>reviews.text</th>\n",
       "    </tr>\n",
       "  </thead>\n",
       "  <tbody>\n",
       "    <tr>\n",
       "      <th>0</th>\n",
       "      <td>I order 3 of them and one of the item is bad q...</td>\n",
       "    </tr>\n",
       "    <tr>\n",
       "      <th>1</th>\n",
       "      <td>Bulk is always the less expensive way to go fo...</td>\n",
       "    </tr>\n",
       "    <tr>\n",
       "      <th>2</th>\n",
       "      <td>Well they are not Duracell but for the price i...</td>\n",
       "    </tr>\n",
       "    <tr>\n",
       "      <th>3</th>\n",
       "      <td>Seem to work as well as name brand batteries a...</td>\n",
       "    </tr>\n",
       "    <tr>\n",
       "      <th>4</th>\n",
       "      <td>These batteries are very long lasting the pric...</td>\n",
       "    </tr>\n",
       "    <tr>\n",
       "      <th>5</th>\n",
       "      <td>Bought a lot of batteries for Christmas and th...</td>\n",
       "    </tr>\n",
       "    <tr>\n",
       "      <th>6</th>\n",
       "      <td>ive not had any problame with these batteries ...</td>\n",
       "    </tr>\n",
       "    <tr>\n",
       "      <th>7</th>\n",
       "      <td>Well if you are looking for cheap non-recharge...</td>\n",
       "    </tr>\n",
       "    <tr>\n",
       "      <th>8</th>\n",
       "      <td>These do not hold the amount of high power jui...</td>\n",
       "    </tr>\n",
       "    <tr>\n",
       "      <th>9</th>\n",
       "      <td>AmazonBasics AA AAA batteries have done well b...</td>\n",
       "    </tr>\n",
       "  </tbody>\n",
       "</table>\n",
       "</div>"
      ],
      "text/plain": [
       "                                        reviews.text\n",
       "0  I order 3 of them and one of the item is bad q...\n",
       "1  Bulk is always the less expensive way to go fo...\n",
       "2  Well they are not Duracell but for the price i...\n",
       "3  Seem to work as well as name brand batteries a...\n",
       "4  These batteries are very long lasting the pric...\n",
       "5  Bought a lot of batteries for Christmas and th...\n",
       "6  ive not had any problame with these batteries ...\n",
       "7  Well if you are looking for cheap non-recharge...\n",
       "8  These do not hold the amount of high power jui...\n",
       "9  AmazonBasics AA AAA batteries have done well b..."
      ]
     },
     "execution_count": 43,
     "metadata": {},
     "output_type": "execute_result"
    }
   ],
   "source": [
    "\n",
    "print(\"Loading dataset...\")\n",
    "df = pd.read_csv(\"./datasets/Datafiniti_Amazon_Consumer_Reviews_of_Amazon_Products_May19.csv\") \n",
    "df.head(5)"
   ]
  },
  {
   "cell_type": "markdown",
   "id": "7940d588",
   "metadata": {},
   "source": [
    "Preprocessing"
   ]
  },
  {
   "cell_type": "code",
   "execution_count": 59,
   "id": "6f318898",
   "metadata": {},
   "outputs": [],
   "source": [
    "# Rename column if necessary\n",
    "if 'reviews.text' in df.columns:\n",
    "    df = df.rename(columns={'reviews.text': 'text'})\n",
    "\n",
    "# Drop missing text\n",
    "df = df.dropna(subset=['text'])\n",
    "\n",
    "# Create sentiment column\n",
    "def get_sentiment(rating):\n",
    "    if rating >= 4:\n",
    "        return 'positive'\n",
    "    elif rating == 3:\n",
    "        return 'neutral'\n",
    "    else:\n",
    "        return 'negative'\n",
    "\n",
    "df['sentiment'] = df['reviews.rating'].apply(get_sentiment)"
   ]
  },
  {
   "cell_type": "markdown",
   "id": "796f725b",
   "metadata": {},
   "source": [
    "Valid Sentiment and Extraction"
   ]
  },
  {
   "cell_type": "code",
   "execution_count": 60,
   "id": "c81335da",
   "metadata": {},
   "outputs": [],
   "source": [
    "\n",
    "# Filter to only valid sentiments\n",
    "valid_classes = ['positive', 'neutral', 'negative']\n",
    "df = df[df['sentiment'].isin(valid_classes)]\n",
    "\n",
    "# Balance dataset (optional)\n",
    "min_samples = df['sentiment'].value_counts().min()\n",
    "df_balanced = pd.concat([\n",
    "    df[df['sentiment'] == label].sample(min_samples, random_state=42)\n",
    "    for label in valid_classes\n",
    "])\n",
    "\n",
    "# Prepare features and labels\n",
    "X = df_balanced['text']\n",
    "y = df_balanced['sentiment']\n",
    "\n",
    "# Save index for later\n",
    "idx = df_balanced.index"
   ]
  },
  {
   "cell_type": "markdown",
   "id": "429306cc",
   "metadata": {},
   "source": [
    "Class Balancing"
   ]
  },
  {
   "cell_type": "code",
   "execution_count": 61,
   "id": "d88456a4",
   "metadata": {},
   "outputs": [
    {
     "name": "stdout",
     "output_type": "stream",
     "text": [
      "\n",
      "Class distribution before balancing:\n",
      "sentiment\n",
      "positive    25545\n",
      "negative     1581\n",
      "neutral      1206\n",
      "Name: count, dtype: int64\n"
     ]
    }
   ],
   "source": [
    "print(\"\\nClass distribution before balancing:\")\n",
    "print(df['sentiment'].value_counts())\n",
    "\n",
    "label_counts = df['sentiment'].value_counts()\n",
    "existing_labels = label_counts[label_counts > 0].index.tolist()\n",
    "min_samples = label_counts.min()\n",
    "\n",
    "df = pd.concat([\n",
    "    df[df['sentiment'] == label].sample(min_samples, random_state=42)\n",
    "    for label in existing_labels\n",
    "])\n"
   ]
  },
  {
   "cell_type": "markdown",
   "id": "3e8922a5",
   "metadata": {},
   "source": [
    "Train test split and Vectorizing "
   ]
  },
  {
   "cell_type": "code",
   "execution_count": 62,
   "id": "54273d98",
   "metadata": {},
   "outputs": [],
   "source": [
    "# Train/Test Split with index tracking\n",
    "X_train, X_test, y_train, y_test, idx_train, idx_test = train_test_split(\n",
    "    X, y, idx, test_size=0.2, random_state=42, stratify=y\n",
    ")\n",
    "\n",
    "# Vectorize text\n",
    "vectorizer = CountVectorizer()\n",
    "X_train_vec = vectorizer.fit_transform(X_train)\n",
    "X_test_vec = vectorizer.transform(X_test)"
   ]
  },
  {
   "cell_type": "markdown",
   "id": "8a52bcc5",
   "metadata": {},
   "source": [
    "Evaluation\n"
   ]
  },
  {
   "cell_type": "code",
   "execution_count": 63,
   "id": "83bbdb77",
   "metadata": {},
   "outputs": [],
   "source": [
    "# Train model\n",
    "model = MultinomialNB()\n",
    "model.fit(X_train_vec, y_train)\n",
    "\n",
    "# Predict\n",
    "y_pred = model.predict(X_test_vec)"
   ]
  },
  {
   "cell_type": "markdown",
   "id": "e7ded8ba",
   "metadata": {},
   "source": [
    "Classification Confusion Matrix "
   ]
  },
  {
   "cell_type": "code",
   "execution_count": 64,
   "id": "1942994e",
   "metadata": {},
   "outputs": [
    {
     "name": "stdout",
     "output_type": "stream",
     "text": [
      "\n",
      "Classification Report:\n",
      "              precision    recall  f1-score   support\n",
      "\n",
      "    negative       0.68      0.79      0.73       241\n",
      "     neutral       0.66      0.63      0.65       241\n",
      "    positive       0.84      0.72      0.78       242\n",
      "\n",
      "    accuracy                           0.72       724\n",
      "   macro avg       0.72      0.72      0.72       724\n",
      "weighted avg       0.72      0.72      0.72       724\n",
      "\n"
     ]
    },
    {
     "data": {
      "image/png": "[encoded data removed]",
      "text/plain": [
       "<Figure size 640x480 with 2 Axes>"
      ]
     },
     "metadata": {},
     "output_type": "display_data"
    }
   ],
   "source": [
    "# Classification report\n",
    "print(\"\\nClassification Report:\")\n",
    "print(classification_report(y_test, y_pred, digits=2))\n",
    "\n",
    "# Confusion matrix\n",
    "cm = confusion_matrix(y_test, y_pred, labels=valid_classes)\n",
    "sns.heatmap(cm, annot=True, fmt=\"d\", cmap=\"Blues\",\n",
    "            xticklabels=valid_classes, yticklabels=valid_classes)\n",
    "plt.xlabel(\"Predicted\")\n",
    "plt.ylabel(\"Actual\")\n",
    "plt.title(\"Confusion Matrix\")\n",
    "plt.show()"
   ]
  },
  {
   "cell_type": "markdown",
   "id": "8c2fc1c7",
   "metadata": {},
   "source": [
    "Test Samples (correct)"
   ]
  },
  {
   "cell_type": "code",
   "execution_count": 65,
   "id": "2d8f5ffd",
   "metadata": {},
   "outputs": [
    {
     "name": "stdout",
     "output_type": "stream",
     "text": [
      "\n",
      "✅ Sample Correctly Classified Reviews:\n",
      "\n",
      "Predicted: NEGATIVE\n",
      "Review: I have used these batteries in several items from flashlights to toys. I have found them less than adaquate for the items they were used in. In my flashlights, I have found they last with average use about 3 weeks. Not very good. For controllers like TV remotes, they last less than a month. They may be cheper in the short run but they become much more expensive in the long run. I will not buy them again and suggest paying a bit more and getting the name brand batteries.\n",
      "--------------------------------------------------------------------------------\n",
      "Predicted: NEUTRAL\n",
      "Review: This product works, but works slow compared to Apple and some Android phones/tablets. Like I stated in my summary... you pay for what you get. No major issues thus far.\n",
      "--------------------------------------------------------------------------------\n",
      "Predicted: NEUTRAL\n",
      "Review: Screen larger than phone. Visual better...........\n",
      "--------------------------------------------------------------------------------\n",
      "Predicted: NEUTRAL\n",
      "Review: When I first bought it and got it started it wouldn't register my amazon account. I tried making a new account and I tried using my moms account but it would not work so I took it back and had geek squad look at it and they claimed it was defective and exchanged it for another one and the new one works wonderfully, haven't had any issues with it yet.\n",
      "--------------------------------------------------------------------------------\n",
      "Predicted: NEGATIVE\n",
      "Review: I purchased this tablet a week ago as a gift for my brother and it has restarted itself over ten times and has shut off while someone was on in on different occasions Will be getting my money back and getting a samsung..\n",
      "--------------------------------------------------------------------------------\n"
     ]
    }
   ],
   "source": [
    "# Show Correctly Classified Samples\n",
    "print(\"\\n✅ Sample Correctly Classified Reviews:\\n\")\n",
    "correct_idx = idx_test[(y_pred == y_test.values)]\n",
    "correct_samples = df_balanced.loc[correct_idx, ['text', 'sentiment']].sample(5, random_state=1)\n",
    "\n",
    "for i, row in correct_samples.iterrows():\n",
    "    print(f\"Predicted: {row['sentiment'].upper()}\\nReview: {row['text']}\\n{'-'*80}\")"
   ]
  },
  {
   "cell_type": "markdown",
   "id": "5999b19e",
   "metadata": {},
   "source": [
    "Test Samples (Incorrect)"
   ]
  },
  {
   "cell_type": "code",
   "execution_count": 66,
   "id": "fe09eaa0",
   "metadata": {},
   "outputs": [
    {
     "name": "stdout",
     "output_type": "stream",
     "text": [
      "\n",
      "❌ Sample Misclassified Reviews:\n",
      "\n",
      "True Sentiment: NEUTRAL\n",
      "Review: I like these shoes but Altra needs to pay more attention to sizing. I normally wear US 7.5-8. The first pair of Superior 2.0s I ordered was size 8 and they were way too short. OK, I thought, they run short. I ordered a pair size 8.5 and they were just barely long enough.I ordered a second pair size 8.5 and they are visibly half an inch shorter than the first size 8.5 pair. That isn't running short, it's lack of quality control.I really like these shoes, so I am ordering size 9's. But I do not have any warm feelings about Altra.\n",
      "--------------------------------------------------------------------------------\n",
      "True Sentiment: NEUTRAL\n",
      "Review: Bought the fire for my mother who is 72 to learn how to use a computer the price was right and she can use it to search the web\n",
      "--------------------------------------------------------------------------------\n",
      "True Sentiment: NEUTRAL\n",
      "Review: These are different than the ones pictured. Are these performance ones also\n",
      "--------------------------------------------------------------------------------\n",
      "True Sentiment: NEUTRAL\n",
      "Review: They don't charge after 3 or 4 uses.\n",
      "--------------------------------------------------------------------------------\n",
      "True Sentiment: POSITIVE\n",
      "Review: When I purchased the Amazon fire tablet I was not expecting it to do everything that my iPad mini did before I broke it but this tablet is a little bit better to me with getting on sites quickly\n",
      "--------------------------------------------------------------------------------\n"
     ]
    }
   ],
   "source": [
    "# Show Misclassified Samples\n",
    "print(\"\\n❌ Sample Misclassified Reviews:\\n\")\n",
    "misclassified_idx = idx_test[(y_pred != y_test.values)]\n",
    "misclassified_samples = df_balanced.loc[misclassified_idx, ['text', 'sentiment']].sample(5, random_state=1)\n",
    "\n",
    "for i, row in misclassified_samples.iterrows():\n",
    "    print(f\"True Sentiment: {row['sentiment'].upper()}\\nReview: {row['text']}\\n{'-'*80}\")"
   ]
  },
  {
   "cell_type": "code",
   "execution_count": null,
   "id": "528cf6a8",
   "metadata": {},
   "outputs": [],
   "source": []
  }
 ],
 "metadata": {
  "kernelspec": {
   "display_name": "base",
   "language": "python",
   "name": "python3"
  },
  "language_info": {
   "codemirror_mode": {
    "name": "ipython",
    "version": 3
   },
   "file_extension": ".py",
   "mimetype": "text/x-python",
   "name": "python",
   "nbconvert_exporter": "python",
   "pygments_lexer": "ipython3",
   "version": "3.12.4"
  }
 },
 "nbformat": 4,
 "nbformat_minor": 5
}
